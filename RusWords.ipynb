{
 "cells": [
  {
   "cell_type": "markdown",
   "id": "welsh-institute",
   "metadata": {},
   "source": [
    "Импорт стандартных библиотек, просто что бы были."
   ]
  },
  {
   "cell_type": "code",
   "execution_count": 6,
   "id": "civil-following",
   "metadata": {},
   "outputs": [],
   "source": [
    "import pandas as pd\n",
    "import numpy as np"
   ]
  },
  {
   "cell_type": "markdown",
   "id": "varying-moisture",
   "metadata": {},
   "source": [
    "### Загрузка книги и сортировка слов\n",
    "\n"
   ]
  },
  {
   "cell_type": "code",
   "execution_count": 3,
   "id": "premier-lewis",
   "metadata": {},
   "outputs": [],
   "source": [
    "import csv\n",
    "\n",
    "frequency = {}\n",
    "rustext = open(\"Gugo.txt\", \"r\",encoding='utf-8')\n",
    "txt = rustext.read().lower()\n",
    "txt = txt.replace(\"\\n\", \" \").replace(\"!\", \" \").replace(\",\", \" \").replace(\".\", \" \").replace(\"–\", \" \").replace(\"—\", \" \").replace(\")\", \" \").replace(\"(\", \" \").replace(\"«\", \" \").replace(\"?\", \" \").replace(\"…\", \" \").replace(\"»\", \" \").split(\" \")\n",
    "\n",
    "rusray = list(filter(lambda a: a != '', txt))\n",
    "\n",
    "for word in rusray:\n",
    "    count = frequency.get(word,0)\n",
    "    frequency[word] = count + 1\n",
    "    \n",
    "\n",
    "w = csv.writer(open(\"output.csv\", \"w\",encoding='utf-8'))\n",
    "for key, val in frequency.items():\n",
    "    w.writerow([key, val])\n"
   ]
  },
  {
   "cell_type": "markdown",
   "id": "annoying-bench",
   "metadata": {},
   "source": [
    "### Поиск частей речи\n",
    "\n"
   ]
  },
  {
   "cell_type": "code",
   "execution_count": 11,
   "id": "outdoor-manhattan",
   "metadata": {},
   "outputs": [
    {
     "data": {
      "text/plain": [
       "'«Морфология» (имя существительное)'"
      ]
     },
     "execution_count": 11,
     "metadata": {},
     "output_type": "execute_result"
    }
   ],
   "source": [
    "import mechanicalsoup\n",
    "browser = mechanicalsoup.StatefulBrowser()\n",
    "\n",
    "word = \"морфология\"\n",
    "\n",
    "browser.open(\"https://pishugramotno.ru/morfologiya/%s\" %(word))\n",
    "#print(\"https://pishugramotno.ru/morfologiya/%s\" %(word))\n",
    "wordhttpdata = browser.page.find(\"h2\", class_=\"morfologiya-word-block-title\")\n",
    "wordhttpdata.get_text()"
   ]
  },
  {
   "cell_type": "markdown",
   "id": "sufficient-gamma",
   "metadata": {},
   "source": [
    "### Загрузка, сортировка, определение части речи и экспорт в json формат для дальнейших трудностей\n",
    "\n"
   ]
  },
  {
   "cell_type": "code",
   "execution_count": 7,
   "id": "incomplete-career",
   "metadata": {},
   "outputs": [
    {
     "ename": "KeyboardInterrupt",
     "evalue": "",
     "output_type": "error",
     "traceback": [
      "\u001b[1;31m---------------------------------------------------------------------------\u001b[0m",
      "\u001b[1;31mKeyboardInterrupt\u001b[0m                         Traceback (most recent call last)",
      "\u001b[1;32m<ipython-input-7-c3c641593ce1>\u001b[0m in \u001b[0;36m<module>\u001b[1;34m\u001b[0m\n\u001b[0;32m     25\u001b[0m \u001b[1;32mfor\u001b[0m \u001b[0mword\u001b[0m \u001b[1;32min\u001b[0m \u001b[0mrusray\u001b[0m\u001b[1;33m:\u001b[0m\u001b[1;33m\u001b[0m\u001b[1;33m\u001b[0m\u001b[0m\n\u001b[0;32m     26\u001b[0m     \u001b[1;32mif\u001b[0m \u001b[0mSWord\u001b[0m\u001b[1;33m.\u001b[0m\u001b[0mget\u001b[0m\u001b[1;33m(\u001b[0m\u001b[0mQuery\u001b[0m\u001b[1;33m(\u001b[0m\u001b[1;33m)\u001b[0m\u001b[1;33m.\u001b[0m\u001b[0mword\u001b[0m \u001b[1;33m==\u001b[0m \u001b[0mword\u001b[0m\u001b[1;33m)\u001b[0m \u001b[1;33m==\u001b[0m \u001b[1;32mNone\u001b[0m\u001b[1;33m:\u001b[0m\u001b[1;33m\u001b[0m\u001b[1;33m\u001b[0m\u001b[0m\n\u001b[1;32m---> 27\u001b[1;33m         \u001b[0mSWord\u001b[0m\u001b[1;33m.\u001b[0m\u001b[0mupdate\u001b[0m\u001b[1;33m(\u001b[0m\u001b[0madd\u001b[0m\u001b[1;33m(\u001b[0m\u001b[1;34m'count'\u001b[0m\u001b[1;33m,\u001b[0m \u001b[1;36m1\u001b[0m\u001b[1;33m)\u001b[0m\u001b[1;33m,\u001b[0m \u001b[0mQuery\u001b[0m\u001b[1;33m(\u001b[0m\u001b[1;33m)\u001b[0m\u001b[1;33m.\u001b[0m\u001b[0mword\u001b[0m \u001b[1;33m==\u001b[0m \u001b[0mword\u001b[0m\u001b[1;33m)\u001b[0m\u001b[1;33m\u001b[0m\u001b[1;33m\u001b[0m\u001b[0m\n\u001b[0m\u001b[0;32m     28\u001b[0m     \u001b[1;32melse\u001b[0m\u001b[1;33m:\u001b[0m\u001b[1;33m\u001b[0m\u001b[1;33m\u001b[0m\u001b[0m\n\u001b[0;32m     29\u001b[0m         \u001b[0mSWord\u001b[0m\u001b[1;33m.\u001b[0m\u001b[0minsert\u001b[0m\u001b[1;33m(\u001b[0m\u001b[1;33m{\u001b[0m\u001b[1;34m'word'\u001b[0m\u001b[1;33m:\u001b[0m \u001b[0mword\u001b[0m\u001b[1;33m,\u001b[0m \u001b[1;34m'count'\u001b[0m\u001b[1;33m:\u001b[0m \u001b[1;36m1\u001b[0m\u001b[1;33m,\u001b[0m \u001b[1;34m'stype'\u001b[0m\u001b[1;33m:\u001b[0m \u001b[0mcheckword\u001b[0m\u001b[1;33m(\u001b[0m\u001b[0mword\u001b[0m\u001b[1;33m)\u001b[0m\u001b[1;33m}\u001b[0m\u001b[1;33m)\u001b[0m\u001b[1;33m\u001b[0m\u001b[1;33m\u001b[0m\u001b[0m\n",
      "\u001b[1;32m~\\AppData\\Roaming\\Python\\Python38\\site-packages\\tinydb\\table.py\u001b[0m in \u001b[0;36mupdate\u001b[1;34m(self, fields, cond, doc_ids)\u001b[0m\n\u001b[0;32m    367\u001b[0m \u001b[1;33m\u001b[0m\u001b[0m\n\u001b[0;32m    368\u001b[0m             \u001b[1;31m# Perform the update operation (see _update_table for details)\u001b[0m\u001b[1;33m\u001b[0m\u001b[1;33m\u001b[0m\u001b[1;33m\u001b[0m\u001b[0m\n\u001b[1;32m--> 369\u001b[1;33m             \u001b[0mself\u001b[0m\u001b[1;33m.\u001b[0m\u001b[0m_update_table\u001b[0m\u001b[1;33m(\u001b[0m\u001b[0mupdater\u001b[0m\u001b[1;33m)\u001b[0m\u001b[1;33m\u001b[0m\u001b[1;33m\u001b[0m\u001b[0m\n\u001b[0m\u001b[0;32m    370\u001b[0m \u001b[1;33m\u001b[0m\u001b[0m\n\u001b[0;32m    371\u001b[0m             \u001b[1;32mreturn\u001b[0m \u001b[0mupdated_ids\u001b[0m\u001b[1;33m\u001b[0m\u001b[1;33m\u001b[0m\u001b[0m\n",
      "\u001b[1;32m~\\AppData\\Roaming\\Python\\Python38\\site-packages\\tinydb\\table.py\u001b[0m in \u001b[0;36m_update_table\u001b[1;34m(self, updater)\u001b[0m\n\u001b[0;32m    699\u001b[0m \u001b[1;33m\u001b[0m\u001b[0m\n\u001b[0;32m    700\u001b[0m         \u001b[1;31m# Write the newly updated data back to the storage\u001b[0m\u001b[1;33m\u001b[0m\u001b[1;33m\u001b[0m\u001b[1;33m\u001b[0m\u001b[0m\n\u001b[1;32m--> 701\u001b[1;33m         \u001b[0mself\u001b[0m\u001b[1;33m.\u001b[0m\u001b[0m_storage\u001b[0m\u001b[1;33m.\u001b[0m\u001b[0mwrite\u001b[0m\u001b[1;33m(\u001b[0m\u001b[0mtables\u001b[0m\u001b[1;33m)\u001b[0m\u001b[1;33m\u001b[0m\u001b[1;33m\u001b[0m\u001b[0m\n\u001b[0m\u001b[0;32m    702\u001b[0m \u001b[1;33m\u001b[0m\u001b[0m\n\u001b[0;32m    703\u001b[0m         \u001b[1;31m# Clear the query cache, as the table contents have changed\u001b[0m\u001b[1;33m\u001b[0m\u001b[1;33m\u001b[0m\u001b[1;33m\u001b[0m\u001b[0m\n",
      "\u001b[1;32m~\\AppData\\Roaming\\Python\\Python38\\site-packages\\tinydb\\storages.py\u001b[0m in \u001b[0;36mwrite\u001b[1;34m(self, data)\u001b[0m\n\u001b[0;32m    140\u001b[0m         \u001b[1;31m# Ensure the file has been writtens\u001b[0m\u001b[1;33m\u001b[0m\u001b[1;33m\u001b[0m\u001b[1;33m\u001b[0m\u001b[0m\n\u001b[0;32m    141\u001b[0m         \u001b[0mself\u001b[0m\u001b[1;33m.\u001b[0m\u001b[0m_handle\u001b[0m\u001b[1;33m.\u001b[0m\u001b[0mflush\u001b[0m\u001b[1;33m(\u001b[0m\u001b[1;33m)\u001b[0m\u001b[1;33m\u001b[0m\u001b[1;33m\u001b[0m\u001b[0m\n\u001b[1;32m--> 142\u001b[1;33m         \u001b[0mos\u001b[0m\u001b[1;33m.\u001b[0m\u001b[0mfsync\u001b[0m\u001b[1;33m(\u001b[0m\u001b[0mself\u001b[0m\u001b[1;33m.\u001b[0m\u001b[0m_handle\u001b[0m\u001b[1;33m.\u001b[0m\u001b[0mfileno\u001b[0m\u001b[1;33m(\u001b[0m\u001b[1;33m)\u001b[0m\u001b[1;33m)\u001b[0m\u001b[1;33m\u001b[0m\u001b[1;33m\u001b[0m\u001b[0m\n\u001b[0m\u001b[0;32m    143\u001b[0m \u001b[1;33m\u001b[0m\u001b[0m\n\u001b[0;32m    144\u001b[0m         \u001b[1;31m# Remove data that is behind the new cursor in case the file has\u001b[0m\u001b[1;33m\u001b[0m\u001b[1;33m\u001b[0m\u001b[1;33m\u001b[0m\u001b[0m\n",
      "\u001b[1;31mKeyboardInterrupt\u001b[0m: "
     ]
    }
   ],
   "source": [
    "import mechanicalsoup\n",
    "from tinydb import TinyDB, Query\n",
    "from tinydb.operations import add, subtract\n",
    "import json\n",
    "browser = mechanicalsoup.StatefulBrowser()\n",
    "\n",
    "def checkword(n):\n",
    "    report = browser.open(\"https://pishugramotno.ru/morfologiya/%s\" %(n)).raise_for_status()\n",
    "    wordhttpdata = browser.page.find(\"h2\", class_=\"morfologiya-word-block-title\")\n",
    "    if wordhttpdata != None:\n",
    "    \treturn wordhttpdata.get_text()\n",
    "    else:\n",
    "    \treturn \"Placeholder\"\n",
    "\n",
    "rustext = open(\"Gugo.txt\", \"r\",encoding='utf-8')\n",
    "txt = rustext.read().lower()\n",
    "txt = txt.replace(\"\\n\", \" \").replace(\"!\", \" \").replace(\",\", \" \").replace(\".\", \" \").replace(\"–\", \" \").replace(\"—\", \" \").replace(\")\", \" \").replace(\"(\", \" \").replace(\"«\", \" \").replace(\"?\", \" \").replace(\"…\", \" \").replace(\"»\", \" \").split(\" \")\n",
    "\n",
    "rusray = list(filter(lambda a: a != '', txt))\n",
    "\n",
    "db = TinyDB('db.json', encoding='utf-8', ensure_ascii=False)\n",
    "SWord = db.table('RusWords')\n",
    "for word in rusray:\n",
    "    if SWord.get(Query().word == word) == None:\n",
    "    \tSWord.insert({'word': word, 'count': 1, 'stype': checkword(word)})\n",
    "    else:\n",
    "    \tSWord.update(add('count', 1), Query().word == word)\n",
    "    "
   ]
  },
  {
   "cell_type": "code",
   "execution_count": null,
   "id": "composed-georgia",
   "metadata": {
    "scrolled": true
   },
   "outputs": [],
   "source": []
  },
  {
   "cell_type": "code",
   "execution_count": null,
   "id": "convenient-range",
   "metadata": {},
   "outputs": [],
   "source": []
  }
 ],
 "metadata": {
  "kernelspec": {
   "display_name": "Python 3",
   "language": "python",
   "name": "python3"
  },
  "language_info": {
   "codemirror_mode": {
    "name": "ipython",
    "version": 3
   },
   "file_extension": ".py",
   "mimetype": "text/x-python",
   "name": "python",
   "nbconvert_exporter": "python",
   "pygments_lexer": "ipython3",
   "version": "3.8.6"
  }
 },
 "nbformat": 4,
 "nbformat_minor": 5
}
